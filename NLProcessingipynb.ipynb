{
  "nbformat": 4,
  "nbformat_minor": 0,
  "metadata": {
    "colab": {
      "provenance": [],
      "authorship_tag": "ABX9TyOh3DvsFK7K9NjducB1pgSm",
      "include_colab_link": true
    },
    "kernelspec": {
      "name": "python3",
      "display_name": "Python 3"
    },
    "language_info": {
      "name": "python"
    }
  },
  "cells": [
    {
      "cell_type": "markdown",
      "metadata": {
        "id": "view-in-github",
        "colab_type": "text"
      },
      "source": [
        "<a href=\"https://colab.research.google.com/github/ryyhan/visual-NLP/blob/main/NLProcessingipynb.ipynb\" target=\"_parent\"><img src=\"https://colab.research.google.com/assets/colab-badge.svg\" alt=\"Open In Colab\"/></a>"
      ]
    },
    {
      "cell_type": "code",
      "execution_count": 5,
      "metadata": {
        "colab": {
          "base_uri": "https://localhost:8080/"
        },
        "id": "rJZeEf8UWFE8",
        "outputId": "94724f7e-cd5d-4b13-c3bb-d07048afc996"
      },
      "outputs": [
        {
          "output_type": "stream",
          "name": "stdout",
          "text": [
            "Requirement already satisfied: nltk in /usr/local/lib/python3.10/dist-packages (3.8.1)\n",
            "Requirement already satisfied: click in /usr/local/lib/python3.10/dist-packages (from nltk) (8.1.7)\n",
            "Requirement already satisfied: joblib in /usr/local/lib/python3.10/dist-packages (from nltk) (1.4.2)\n",
            "Requirement already satisfied: regex>=2021.8.3 in /usr/local/lib/python3.10/dist-packages (from nltk) (2024.5.15)\n",
            "Requirement already satisfied: tqdm in /usr/local/lib/python3.10/dist-packages (from nltk) (4.66.4)\n"
          ]
        },
        {
          "output_type": "stream",
          "name": "stderr",
          "text": [
            "[nltk_data] Downloading package punkt to /root/nltk_data...\n",
            "[nltk_data]   Unzipping tokenizers/punkt.zip.\n"
          ]
        },
        {
          "output_type": "execute_result",
          "data": {
            "text/plain": [
              "True"
            ]
          },
          "metadata": {},
          "execution_count": 5
        }
      ],
      "source": [
        "!pip install nltk\n",
        "import nltk\n",
        "nltk.download('punkt')"
      ]
    },
    {
      "cell_type": "code",
      "source": [
        "corpus = \"\"\"\n",
        "Stella, a software engineer with a fire in her eyes, slammed her laptop shut. Her latest code, a groundbreaking algorithm, refused to compile. Hours of meticulous work seemed on the verge of collapse. Was she just tilting at windmills, her human effort insignificant against the unforgiving logic of the machine?\n",
        "\n",
        "\"Even the most elegant code can't predict every twist,\" said a gentle voice. David, a senior developer with a calming presence, stood beside her.\n",
        "\n",
        "Stella scoffed. \"So, are we all just at the mercy of random bugs and glitches?\"\n",
        "\n",
        "David chuckled. \"Think of it like this. You write the code (agency), you craft the logic (action), but sometimes unforeseen complexities (external forces) arise. A skilled programmer trusts their abilities but also acknowledges the inherent mysteries of the digital world.\"\n",
        "\n",
        "Stella felt a knot loosen in her chest. Maybe her frustration stemmed from the illusion of total control. Perhaps her role was to leverage her skills and knowledge while embracing the unpredictable nature of the digital realm. It was about finding the bridge between determined effort and accepting the larger design of the system's intricate workings.  She took a deep breath, a renewed sense of purpose sparking in her eyes. There was still a solution waiting to be found, a harmonious dance between her will and the hidden logic of the code.\n",
        "\n",
        "\"\"\""
      ],
      "metadata": {
        "id": "W77nED14WWCf"
      },
      "execution_count": 2,
      "outputs": []
    },
    {
      "cell_type": "markdown",
      "source": [
        "# Tokenization\n"
      ],
      "metadata": {
        "id": "gEoqFG8qZLaX"
      }
    },
    {
      "cell_type": "markdown",
      "source": [
        "- senetence tokenization"
      ],
      "metadata": {
        "id": "NU1yshu_ZQuQ"
      }
    },
    {
      "cell_type": "code",
      "source": [
        "from nltk.tokenize import sent_tokenize\n",
        "\n",
        "sentences = sent_tokenize(corpus)\n",
        "for x in sentences:\n",
        "  print(x)"
      ],
      "metadata": {
        "colab": {
          "base_uri": "https://localhost:8080/"
        },
        "id": "6cjuNYerZU58",
        "outputId": "43221200-5f12-46c4-8ce4-14c5fe0b527d"
      },
      "execution_count": 9,
      "outputs": [
        {
          "output_type": "stream",
          "name": "stdout",
          "text": [
            "\n",
            "Stella, a software engineer with a fire in her eyes, slammed her laptop shut.\n",
            "Her latest code, a groundbreaking algorithm, refused to compile.\n",
            "Hours of meticulous work seemed on the verge of collapse.\n",
            "Was she just tilting at windmills, her human effort insignificant against the unforgiving logic of the machine?\n",
            "\"Even the most elegant code can't predict every twist,\" said a gentle voice.\n",
            "David, a senior developer with a calming presence, stood beside her.\n",
            "Stella scoffed.\n",
            "\"So, are we all just at the mercy of random bugs and glitches?\"\n",
            "David chuckled.\n",
            "\"Think of it like this.\n",
            "You write the code (agency), you craft the logic (action), but sometimes unforeseen complexities (external forces) arise.\n",
            "A skilled programmer trusts their abilities but also acknowledges the inherent mysteries of the digital world.\"\n",
            "Stella felt a knot loosen in her chest.\n",
            "Maybe her frustration stemmed from the illusion of total control.\n",
            "Perhaps her role was to leverage her skills and knowledge while embracing the unpredictable nature of the digital realm.\n",
            "It was about finding the bridge between determined effort and accepting the larger design of the system's intricate workings.\n",
            "She took a deep breath, a renewed sense of purpose sparking in her eyes.\n",
            "There was still a solution waiting to be found, a harmonious dance between her will and the hidden logic of the code.\n"
          ]
        }
      ]
    },
    {
      "cell_type": "markdown",
      "source": [
        "- word tokenization"
      ],
      "metadata": {
        "id": "RkBPCQyHe6kd"
      }
    },
    {
      "cell_type": "code",
      "source": [
        "from nltk.tokenize import word_tokenize\n",
        "\n",
        "words = word_tokenize(corpus)\n",
        "for x in words:\n",
        "  print(x)"
      ],
      "metadata": {
        "colab": {
          "base_uri": "https://localhost:8080/"
        },
        "id": "F_lQF9a4Zpip",
        "outputId": "2114ba67-6c06-418b-dc8c-79a07df76682"
      },
      "execution_count": 11,
      "outputs": [
        {
          "output_type": "stream",
          "name": "stdout",
          "text": [
            "Stella\n",
            ",\n",
            "a\n",
            "software\n",
            "engineer\n",
            "with\n",
            "a\n",
            "fire\n",
            "in\n",
            "her\n",
            "eyes\n",
            ",\n",
            "slammed\n",
            "her\n",
            "laptop\n",
            "shut\n",
            ".\n",
            "Her\n",
            "latest\n",
            "code\n",
            ",\n",
            "a\n",
            "groundbreaking\n",
            "algorithm\n",
            ",\n",
            "refused\n",
            "to\n",
            "compile\n",
            ".\n",
            "Hours\n",
            "of\n",
            "meticulous\n",
            "work\n",
            "seemed\n",
            "on\n",
            "the\n",
            "verge\n",
            "of\n",
            "collapse\n",
            ".\n",
            "Was\n",
            "she\n",
            "just\n",
            "tilting\n",
            "at\n",
            "windmills\n",
            ",\n",
            "her\n",
            "human\n",
            "effort\n",
            "insignificant\n",
            "against\n",
            "the\n",
            "unforgiving\n",
            "logic\n",
            "of\n",
            "the\n",
            "machine\n",
            "?\n",
            "``\n",
            "Even\n",
            "the\n",
            "most\n",
            "elegant\n",
            "code\n",
            "ca\n",
            "n't\n",
            "predict\n",
            "every\n",
            "twist\n",
            ",\n",
            "''\n",
            "said\n",
            "a\n",
            "gentle\n",
            "voice\n",
            ".\n",
            "David\n",
            ",\n",
            "a\n",
            "senior\n",
            "developer\n",
            "with\n",
            "a\n",
            "calming\n",
            "presence\n",
            ",\n",
            "stood\n",
            "beside\n",
            "her\n",
            ".\n",
            "Stella\n",
            "scoffed\n",
            ".\n",
            "``\n",
            "So\n",
            ",\n",
            "are\n",
            "we\n",
            "all\n",
            "just\n",
            "at\n",
            "the\n",
            "mercy\n",
            "of\n",
            "random\n",
            "bugs\n",
            "and\n",
            "glitches\n",
            "?\n",
            "''\n",
            "David\n",
            "chuckled\n",
            ".\n",
            "``\n",
            "Think\n",
            "of\n",
            "it\n",
            "like\n",
            "this\n",
            ".\n",
            "You\n",
            "write\n",
            "the\n",
            "code\n",
            "(\n",
            "agency\n",
            ")\n",
            ",\n",
            "you\n",
            "craft\n",
            "the\n",
            "logic\n",
            "(\n",
            "action\n",
            ")\n",
            ",\n",
            "but\n",
            "sometimes\n",
            "unforeseen\n",
            "complexities\n",
            "(\n",
            "external\n",
            "forces\n",
            ")\n",
            "arise\n",
            ".\n",
            "A\n",
            "skilled\n",
            "programmer\n",
            "trusts\n",
            "their\n",
            "abilities\n",
            "but\n",
            "also\n",
            "acknowledges\n",
            "the\n",
            "inherent\n",
            "mysteries\n",
            "of\n",
            "the\n",
            "digital\n",
            "world\n",
            ".\n",
            "''\n",
            "Stella\n",
            "felt\n",
            "a\n",
            "knot\n",
            "loosen\n",
            "in\n",
            "her\n",
            "chest\n",
            ".\n",
            "Maybe\n",
            "her\n",
            "frustration\n",
            "stemmed\n",
            "from\n",
            "the\n",
            "illusion\n",
            "of\n",
            "total\n",
            "control\n",
            ".\n",
            "Perhaps\n",
            "her\n",
            "role\n",
            "was\n",
            "to\n",
            "leverage\n",
            "her\n",
            "skills\n",
            "and\n",
            "knowledge\n",
            "while\n",
            "embracing\n",
            "the\n",
            "unpredictable\n",
            "nature\n",
            "of\n",
            "the\n",
            "digital\n",
            "realm\n",
            ".\n",
            "It\n",
            "was\n",
            "about\n",
            "finding\n",
            "the\n",
            "bridge\n",
            "between\n",
            "determined\n",
            "effort\n",
            "and\n",
            "accepting\n",
            "the\n",
            "larger\n",
            "design\n",
            "of\n",
            "the\n",
            "system\n",
            "'s\n",
            "intricate\n",
            "workings\n",
            ".\n",
            "She\n",
            "took\n",
            "a\n",
            "deep\n",
            "breath\n",
            ",\n",
            "a\n",
            "renewed\n",
            "sense\n",
            "of\n",
            "purpose\n",
            "sparking\n",
            "in\n",
            "her\n",
            "eyes\n",
            ".\n",
            "There\n",
            "was\n",
            "still\n",
            "a\n",
            "solution\n",
            "waiting\n",
            "to\n",
            "be\n",
            "found\n",
            ",\n",
            "a\n",
            "harmonious\n",
            "dance\n",
            "between\n",
            "her\n",
            "will\n",
            "and\n",
            "the\n",
            "hidden\n",
            "logic\n",
            "of\n",
            "the\n",
            "code\n",
            ".\n"
          ]
        }
      ]
    },
    {
      "cell_type": "code",
      "source": [],
      "metadata": {
        "id": "ULohZXgniFWk"
      },
      "execution_count": null,
      "outputs": []
    }
  ]
}